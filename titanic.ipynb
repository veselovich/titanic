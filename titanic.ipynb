{
  "cells": [
    {
      "cell_type": "code",
      "execution_count": 13,
      "metadata": {
        "_cell_guid": "b1076dfc-b9ad-4769-8c92-a6c4dae69d19",
        "_uuid": "8f2839f25d086af736a60e9eeb907d3b93b6e0e5",
        "execution": {
          "iopub.execute_input": "2025-04-09T21:01:01.164943Z",
          "iopub.status.busy": "2025-04-09T21:01:01.164485Z",
          "iopub.status.idle": "2025-04-09T21:01:02.499041Z",
          "shell.execute_reply": "2025-04-09T21:01:02.497924Z",
          "shell.execute_reply.started": "2025-04-09T21:01:01.164902Z"
        },
        "id": "D44rQ9G8s-ER",
        "trusted": true
      },
      "outputs": [],
      "source": [
        "import numpy as np # linear algebra\n",
        "import pandas as pd # data processing, CSV file I/O (e.g. pd.read_csv)"
      ]
    },
    {
      "cell_type": "code",
      "execution_count": 14,
      "metadata": {
        "id": "S-zhaw0G_3T1"
      },
      "outputs": [],
      "source": [
        "import os\n",
        "import requests\n",
        "\n",
        "# Simulate input folder\n",
        "input_dir = 'kaggle/input/'\n",
        "os.makedirs(input_dir, exist_ok=True)"
      ]
    },
    {
      "cell_type": "code",
      "execution_count": 15,
      "metadata": {
        "colab": {
          "base_uri": "https://localhost:8080/",
          "height": 255
        },
        "execution": {
          "iopub.execute_input": "2025-04-09T21:01:02.500923Z",
          "iopub.status.busy": "2025-04-09T21:01:02.500402Z",
          "iopub.status.idle": "2025-04-09T21:01:02.549853Z",
          "shell.execute_reply": "2025-04-09T21:01:02.548707Z",
          "shell.execute_reply.started": "2025-04-09T21:01:02.500889Z"
        },
        "id": "klVYdORIs-EU",
        "outputId": "2eacba08-e1e7-40e5-be2e-3cad65c5f883",
        "trusted": true
      },
      "outputs": [
        {
          "data": {
            "text/html": [
              "<div>\n",
              "<style scoped>\n",
              "    .dataframe tbody tr th:only-of-type {\n",
              "        vertical-align: middle;\n",
              "    }\n",
              "\n",
              "    .dataframe tbody tr th {\n",
              "        vertical-align: top;\n",
              "    }\n",
              "\n",
              "    .dataframe thead th {\n",
              "        text-align: right;\n",
              "    }\n",
              "</style>\n",
              "<table border=\"1\" class=\"dataframe\">\n",
              "  <thead>\n",
              "    <tr style=\"text-align: right;\">\n",
              "      <th></th>\n",
              "      <th>PassengerId</th>\n",
              "      <th>Survived</th>\n",
              "      <th>Pclass</th>\n",
              "      <th>Name</th>\n",
              "      <th>Sex</th>\n",
              "      <th>Age</th>\n",
              "      <th>SibSp</th>\n",
              "      <th>Parch</th>\n",
              "      <th>Ticket</th>\n",
              "      <th>Fare</th>\n",
              "      <th>Cabin</th>\n",
              "      <th>Embarked</th>\n",
              "    </tr>\n",
              "  </thead>\n",
              "  <tbody>\n",
              "    <tr>\n",
              "      <th>0</th>\n",
              "      <td>1</td>\n",
              "      <td>0</td>\n",
              "      <td>3</td>\n",
              "      <td>Braund, Mr. Owen Harris</td>\n",
              "      <td>male</td>\n",
              "      <td>22.0</td>\n",
              "      <td>1</td>\n",
              "      <td>0</td>\n",
              "      <td>A/5 21171</td>\n",
              "      <td>7.2500</td>\n",
              "      <td>NaN</td>\n",
              "      <td>S</td>\n",
              "    </tr>\n",
              "    <tr>\n",
              "      <th>1</th>\n",
              "      <td>2</td>\n",
              "      <td>1</td>\n",
              "      <td>1</td>\n",
              "      <td>Cumings, Mrs. John Bradley (Florence Briggs Th...</td>\n",
              "      <td>female</td>\n",
              "      <td>38.0</td>\n",
              "      <td>1</td>\n",
              "      <td>0</td>\n",
              "      <td>PC 17599</td>\n",
              "      <td>71.2833</td>\n",
              "      <td>C85</td>\n",
              "      <td>C</td>\n",
              "    </tr>\n",
              "    <tr>\n",
              "      <th>2</th>\n",
              "      <td>3</td>\n",
              "      <td>1</td>\n",
              "      <td>3</td>\n",
              "      <td>Heikkinen, Miss. Laina</td>\n",
              "      <td>female</td>\n",
              "      <td>26.0</td>\n",
              "      <td>0</td>\n",
              "      <td>0</td>\n",
              "      <td>STON/O2. 3101282</td>\n",
              "      <td>7.9250</td>\n",
              "      <td>NaN</td>\n",
              "      <td>S</td>\n",
              "    </tr>\n",
              "    <tr>\n",
              "      <th>3</th>\n",
              "      <td>4</td>\n",
              "      <td>1</td>\n",
              "      <td>1</td>\n",
              "      <td>Futrelle, Mrs. Jacques Heath (Lily May Peel)</td>\n",
              "      <td>female</td>\n",
              "      <td>35.0</td>\n",
              "      <td>1</td>\n",
              "      <td>0</td>\n",
              "      <td>113803</td>\n",
              "      <td>53.1000</td>\n",
              "      <td>C123</td>\n",
              "      <td>S</td>\n",
              "    </tr>\n",
              "    <tr>\n",
              "      <th>4</th>\n",
              "      <td>5</td>\n",
              "      <td>0</td>\n",
              "      <td>3</td>\n",
              "      <td>Allen, Mr. William Henry</td>\n",
              "      <td>male</td>\n",
              "      <td>35.0</td>\n",
              "      <td>0</td>\n",
              "      <td>0</td>\n",
              "      <td>373450</td>\n",
              "      <td>8.0500</td>\n",
              "      <td>NaN</td>\n",
              "      <td>S</td>\n",
              "    </tr>\n",
              "  </tbody>\n",
              "</table>\n",
              "</div>"
            ],
            "text/plain": [
              "   PassengerId  Survived  Pclass  \\\n",
              "0            1         0       3   \n",
              "1            2         1       1   \n",
              "2            3         1       3   \n",
              "3            4         1       1   \n",
              "4            5         0       3   \n",
              "\n",
              "                                                Name     Sex   Age  SibSp  \\\n",
              "0                            Braund, Mr. Owen Harris    male  22.0      1   \n",
              "1  Cumings, Mrs. John Bradley (Florence Briggs Th...  female  38.0      1   \n",
              "2                             Heikkinen, Miss. Laina  female  26.0      0   \n",
              "3       Futrelle, Mrs. Jacques Heath (Lily May Peel)  female  35.0      1   \n",
              "4                           Allen, Mr. William Henry    male  35.0      0   \n",
              "\n",
              "   Parch            Ticket     Fare Cabin Embarked  \n",
              "0      0         A/5 21171   7.2500   NaN        S  \n",
              "1      0          PC 17599  71.2833   C85        C  \n",
              "2      0  STON/O2. 3101282   7.9250   NaN        S  \n",
              "3      0            113803  53.1000  C123        S  \n",
              "4      0            373450   8.0500   NaN        S  "
            ]
          },
          "execution_count": 15,
          "metadata": {},
          "output_type": "execute_result"
        }
      ],
      "source": [
        "train_data = pd.read_csv(input_dir + \"train.csv\")\n",
        "train_data.head()"
      ]
    },
    {
      "cell_type": "code",
      "execution_count": 16,
      "metadata": {
        "colab": {
          "base_uri": "https://localhost:8080/",
          "height": 204
        },
        "execution": {
          "iopub.execute_input": "2025-04-09T21:01:02.552224Z",
          "iopub.status.busy": "2025-04-09T21:01:02.551896Z",
          "iopub.status.idle": "2025-04-09T21:01:02.573878Z",
          "shell.execute_reply": "2025-04-09T21:01:02.572487Z",
          "shell.execute_reply.started": "2025-04-09T21:01:02.552193Z"
        },
        "id": "8NQbLTCps-EV",
        "outputId": "518e235e-b018-4680-e009-0587362839a1",
        "trusted": true
      },
      "outputs": [
        {
          "data": {
            "text/html": [
              "<div>\n",
              "<style scoped>\n",
              "    .dataframe tbody tr th:only-of-type {\n",
              "        vertical-align: middle;\n",
              "    }\n",
              "\n",
              "    .dataframe tbody tr th {\n",
              "        vertical-align: top;\n",
              "    }\n",
              "\n",
              "    .dataframe thead th {\n",
              "        text-align: right;\n",
              "    }\n",
              "</style>\n",
              "<table border=\"1\" class=\"dataframe\">\n",
              "  <thead>\n",
              "    <tr style=\"text-align: right;\">\n",
              "      <th></th>\n",
              "      <th>PassengerId</th>\n",
              "      <th>Pclass</th>\n",
              "      <th>Name</th>\n",
              "      <th>Sex</th>\n",
              "      <th>Age</th>\n",
              "      <th>SibSp</th>\n",
              "      <th>Parch</th>\n",
              "      <th>Ticket</th>\n",
              "      <th>Fare</th>\n",
              "      <th>Cabin</th>\n",
              "      <th>Embarked</th>\n",
              "    </tr>\n",
              "  </thead>\n",
              "  <tbody>\n",
              "    <tr>\n",
              "      <th>0</th>\n",
              "      <td>892</td>\n",
              "      <td>3</td>\n",
              "      <td>Kelly, Mr. James</td>\n",
              "      <td>male</td>\n",
              "      <td>34.5</td>\n",
              "      <td>0</td>\n",
              "      <td>0</td>\n",
              "      <td>330911</td>\n",
              "      <td>7.8292</td>\n",
              "      <td>NaN</td>\n",
              "      <td>Q</td>\n",
              "    </tr>\n",
              "    <tr>\n",
              "      <th>1</th>\n",
              "      <td>893</td>\n",
              "      <td>3</td>\n",
              "      <td>Wilkes, Mrs. James (Ellen Needs)</td>\n",
              "      <td>female</td>\n",
              "      <td>47.0</td>\n",
              "      <td>1</td>\n",
              "      <td>0</td>\n",
              "      <td>363272</td>\n",
              "      <td>7.0000</td>\n",
              "      <td>NaN</td>\n",
              "      <td>S</td>\n",
              "    </tr>\n",
              "    <tr>\n",
              "      <th>2</th>\n",
              "      <td>894</td>\n",
              "      <td>2</td>\n",
              "      <td>Myles, Mr. Thomas Francis</td>\n",
              "      <td>male</td>\n",
              "      <td>62.0</td>\n",
              "      <td>0</td>\n",
              "      <td>0</td>\n",
              "      <td>240276</td>\n",
              "      <td>9.6875</td>\n",
              "      <td>NaN</td>\n",
              "      <td>Q</td>\n",
              "    </tr>\n",
              "    <tr>\n",
              "      <th>3</th>\n",
              "      <td>895</td>\n",
              "      <td>3</td>\n",
              "      <td>Wirz, Mr. Albert</td>\n",
              "      <td>male</td>\n",
              "      <td>27.0</td>\n",
              "      <td>0</td>\n",
              "      <td>0</td>\n",
              "      <td>315154</td>\n",
              "      <td>8.6625</td>\n",
              "      <td>NaN</td>\n",
              "      <td>S</td>\n",
              "    </tr>\n",
              "    <tr>\n",
              "      <th>4</th>\n",
              "      <td>896</td>\n",
              "      <td>3</td>\n",
              "      <td>Hirvonen, Mrs. Alexander (Helga E Lindqvist)</td>\n",
              "      <td>female</td>\n",
              "      <td>22.0</td>\n",
              "      <td>1</td>\n",
              "      <td>1</td>\n",
              "      <td>3101298</td>\n",
              "      <td>12.2875</td>\n",
              "      <td>NaN</td>\n",
              "      <td>S</td>\n",
              "    </tr>\n",
              "  </tbody>\n",
              "</table>\n",
              "</div>"
            ],
            "text/plain": [
              "   PassengerId  Pclass                                          Name     Sex  \\\n",
              "0          892       3                              Kelly, Mr. James    male   \n",
              "1          893       3              Wilkes, Mrs. James (Ellen Needs)  female   \n",
              "2          894       2                     Myles, Mr. Thomas Francis    male   \n",
              "3          895       3                              Wirz, Mr. Albert    male   \n",
              "4          896       3  Hirvonen, Mrs. Alexander (Helga E Lindqvist)  female   \n",
              "\n",
              "    Age  SibSp  Parch   Ticket     Fare Cabin Embarked  \n",
              "0  34.5      0      0   330911   7.8292   NaN        Q  \n",
              "1  47.0      1      0   363272   7.0000   NaN        S  \n",
              "2  62.0      0      0   240276   9.6875   NaN        Q  \n",
              "3  27.0      0      0   315154   8.6625   NaN        S  \n",
              "4  22.0      1      1  3101298  12.2875   NaN        S  "
            ]
          },
          "execution_count": 16,
          "metadata": {},
          "output_type": "execute_result"
        }
      ],
      "source": [
        "test_data = pd.read_csv(input_dir + \"test.csv\")\n",
        "test_data.head()"
      ]
    },
    {
      "cell_type": "code",
      "execution_count": 17,
      "metadata": {
        "colab": {
          "base_uri": "https://localhost:8080/"
        },
        "execution": {
          "iopub.execute_input": "2025-04-09T21:01:02.576101Z",
          "iopub.status.busy": "2025-04-09T21:01:02.575779Z",
          "iopub.status.idle": "2025-04-09T21:01:02.596448Z",
          "shell.execute_reply": "2025-04-09T21:01:02.595068Z",
          "shell.execute_reply.started": "2025-04-09T21:01:02.576066Z"
        },
        "id": "tyAmLHwCs-EV",
        "outputId": "8c30307b-83d0-4987-d0cd-b03b29becd5f",
        "trusted": true
      },
      "outputs": [
        {
          "name": "stdout",
          "output_type": "stream",
          "text": [
            "{'male': 0, 'female': 1}\n"
          ]
        }
      ],
      "source": [
        "train_data['Sex'] = train_data['Sex'].fillna('Unknown')\n",
        "train_data['Sex'], sex_map = pd.factorize(train_data['Sex'])\n",
        "\n",
        "sex_map = {category: code for code, category in enumerate(sex_map)}\n",
        "print(sex_map)\n",
        "\n",
        "test_data['Sex'] = test_data['Sex'].fillna('Unknown')\n",
        "test_data['Sex'] = test_data['Sex'].map(sex_map)"
      ]
    },
    {
      "cell_type": "code",
      "execution_count": 18,
      "metadata": {
        "execution": {
          "iopub.execute_input": "2025-04-09T21:01:02.597965Z",
          "iopub.status.busy": "2025-04-09T21:01:02.597623Z",
          "iopub.status.idle": "2025-04-09T21:01:02.618446Z",
          "shell.execute_reply": "2025-04-09T21:01:02.617386Z",
          "shell.execute_reply.started": "2025-04-09T21:01:02.597924Z"
        },
        "id": "Ee5nkPuds-EW",
        "trusted": true
      },
      "outputs": [],
      "source": [
        "train_data['AgeMissing'] = train_data['Age'].isnull().astype(int)\n",
        "test_data['AgeMissing'] = test_data['Age'].isnull().astype(int)\n",
        "\n",
        "median_age = train_data['Age'].median()\n",
        "train_data['Age'] = train_data['Age'].fillna(median_age)\n",
        "test_data['Age'] = test_data['Age'].fillna(median_age)"
      ]
    },
    {
      "cell_type": "code",
      "execution_count": 19,
      "metadata": {
        "colab": {
          "base_uri": "https://localhost:8080/"
        },
        "execution": {
          "iopub.execute_input": "2025-04-09T21:01:02.620257Z",
          "iopub.status.busy": "2025-04-09T21:01:02.619909Z",
          "iopub.status.idle": "2025-04-09T21:01:02.632125Z",
          "shell.execute_reply": "2025-04-09T21:01:02.631032Z",
          "shell.execute_reply.started": "2025-04-09T21:01:02.620216Z"
        },
        "id": "mGqRm7iGs-EW",
        "outputId": "951894c3-075a-49ec-9ffd-5ceed2535bbc",
        "trusted": true
      },
      "outputs": [
        {
          "name": "stdout",
          "output_type": "stream",
          "text": [
            "{'U': 0, 'C': 1, 'E': 2, 'G': 3, 'D': 4, 'A': 5, 'B': 6, 'F': 7, 'T': 8}\n"
          ]
        }
      ],
      "source": [
        "train_data['Cabin'] = train_data['Cabin'].fillna('Unknown')\n",
        "train_data['Cabin'] = train_data['Cabin'].str[0]\n",
        "train_data['Cabin'], cab_map = pd.factorize(train_data['Cabin'])\n",
        "\n",
        "cab_map = {category: code for code, category in enumerate(cab_map)}\n",
        "print(cab_map)\n",
        "\n",
        "test_data['Cabin'] = test_data['Cabin'].fillna('Unknown')\n",
        "test_data['Cabin'] = test_data['Cabin'].str[0]\n",
        "test_data['Cabin'] = test_data['Cabin'].map(cab_map)"
      ]
    },
    {
      "cell_type": "code",
      "execution_count": 20,
      "metadata": {
        "colab": {
          "base_uri": "https://localhost:8080/"
        },
        "execution": {
          "iopub.execute_input": "2025-04-09T21:01:02.633567Z",
          "iopub.status.busy": "2025-04-09T21:01:02.633226Z",
          "iopub.status.idle": "2025-04-09T21:01:02.651480Z",
          "shell.execute_reply": "2025-04-09T21:01:02.650300Z",
          "shell.execute_reply.started": "2025-04-09T21:01:02.633539Z"
        },
        "id": "i7P2XPI6s-EW",
        "outputId": "62f4b8f7-c955-417a-9256-3998993b1b3d",
        "trusted": true
      },
      "outputs": [
        {
          "name": "stdout",
          "output_type": "stream",
          "text": [
            "{'S': 0, 'C': 1, 'Q': 2, 'Unknown': 3}\n"
          ]
        }
      ],
      "source": [
        "train_data['Embarked'] = train_data['Embarked'].fillna('Unknown')\n",
        "train_data['Embarked'], emb_map = pd.factorize(train_data['Embarked'])\n",
        "\n",
        "emb_map = {category: code for code, category in enumerate(emb_map)}\n",
        "print(emb_map)\n",
        "\n",
        "test_data['Embarked'] = test_data['Embarked'].fillna('Unknown')\n",
        "test_data['Embarked'] = test_data['Embarked'].map(emb_map)"
      ]
    },
    {
      "cell_type": "code",
      "execution_count": 21,
      "metadata": {
        "colab": {
          "base_uri": "https://localhost:8080/"
        },
        "id": "WzmgW6MTWXWt",
        "outputId": "65aaca04-a658-4a2a-f647-ecf7a1942a4a"
      },
      "outputs": [
        {
          "name": "stdout",
          "output_type": "stream",
          "text": [
            "{'Mr': 0, 'Mrs': 1, 'Miss': 2, 'Master': 3, 'Don': 4, 'Rev': 5, 'Dr': 6, 'Mme': 7, 'Ms': 8, 'Major': 9, 'Lady': 10, 'Sir': 11, 'Mlle': 12, 'Col': 13, 'Capt': 14, 'Countess': 15, 'Jonkheer': 16}\n"
          ]
        }
      ],
      "source": [
        "train_data['Title'] = train_data['Name'].str.extract(' ([A-Za-z]+)\\.', expand=False)\n",
        "train_data['Title'], title_map = pd.factorize(train_data['Title'])\n",
        "\n",
        "title_map = {cat: code for code, cat in enumerate(title_map)}\n",
        "print(title_map)\n",
        "\n",
        "test_data['Title'] = test_data['Name'].str.extract(' ([A-Za-z]+)\\.', expand=False)\n",
        "test_data['Title'] = test_data['Title'].map(title_map).fillna(-1).astype(int)"
      ]
    },
    {
      "cell_type": "code",
      "execution_count": 22,
      "metadata": {
        "id": "FsQrNi26XykC"
      },
      "outputs": [],
      "source": [
        "train_data['FamilySize'] = train_data['SibSp'] + train_data['Parch']\n",
        "test_data['FamilySize'] = test_data['SibSp'] + test_data['Parch']"
      ]
    },
    {
      "cell_type": "code",
      "execution_count": 23,
      "metadata": {
        "id": "U3I2z3MoY_wM"
      },
      "outputs": [],
      "source": [
        "train_data['IsAlone'] = (train_data['FamilySize'] == 0).astype(int)\n",
        "test_data['IsAlone'] = (test_data['FamilySize'] == 0).astype(int)"
      ]
    },
    {
      "cell_type": "code",
      "execution_count": 24,
      "metadata": {
        "id": "QpXksDUGTr08"
      },
      "outputs": [],
      "source": [
        "from sklearn.preprocessing import StandardScaler\n",
        "\n",
        "scaler = StandardScaler()\n",
        "train_data[['Age', 'Fare']] = scaler.fit_transform(train_data[['Age', 'Fare']])\n",
        "test_data[['Age', 'Fare']] = scaler.transform(test_data[['Age', 'Fare']])"
      ]
    },
    {
      "cell_type": "code",
      "execution_count": 25,
      "metadata": {
        "execution": {
          "iopub.execute_input": "2025-04-09T21:01:02.653051Z",
          "iopub.status.busy": "2025-04-09T21:01:02.652624Z",
          "iopub.status.idle": "2025-04-09T21:01:02.670893Z",
          "shell.execute_reply": "2025-04-09T21:01:02.669701Z",
          "shell.execute_reply.started": "2025-04-09T21:01:02.653007Z"
        },
        "id": "Ys3uBlozs-EX",
        "trusted": true
      },
      "outputs": [],
      "source": [
        "feature_col = ['Pclass', 'Sex', 'Title', 'Age', 'AgeMissing', 'SibSp', 'Parch', 'FamilySize', 'IsAlone', 'Fare', 'Cabin', 'Embarked']\n",
        "target = 'Survived'"
      ]
    },
    {
      "cell_type": "code",
      "execution_count": 26,
      "metadata": {
        "execution": {
          "iopub.execute_input": "2025-04-09T21:01:02.673849Z",
          "iopub.status.busy": "2025-04-09T21:01:02.673469Z",
          "iopub.status.idle": "2025-04-09T21:01:02.693710Z",
          "shell.execute_reply": "2025-04-09T21:01:02.692202Z",
          "shell.execute_reply.started": "2025-04-09T21:01:02.673772Z"
        },
        "id": "RfMof9G2s-EX",
        "trusted": true
      },
      "outputs": [],
      "source": [
        "X = train_data[feature_col].values\n",
        "y = train_data[target].values\n",
        "\n",
        "X_test = test_data[feature_col].values"
      ]
    },
    {
      "cell_type": "code",
      "execution_count": 27,
      "metadata": {
        "execution": {
          "iopub.execute_input": "2025-04-09T21:01:02.695407Z",
          "iopub.status.busy": "2025-04-09T21:01:02.695073Z",
          "iopub.status.idle": "2025-04-09T21:01:06.882773Z",
          "shell.execute_reply": "2025-04-09T21:01:06.881552Z",
          "shell.execute_reply.started": "2025-04-09T21:01:02.695374Z"
        },
        "id": "p7Gijgo6s-EX",
        "trusted": true
      },
      "outputs": [],
      "source": [
        "import torch\n",
        "\n",
        "X_tensor = torch.tensor(X, dtype=torch.float32)\n",
        "y_tensor = torch.tensor(y, dtype=torch.long)\n",
        "\n",
        "X_test_tensor = torch.tensor(X_test, dtype=torch.float32)"
      ]
    },
    {
      "cell_type": "code",
      "execution_count": 28,
      "metadata": {
        "execution": {
          "iopub.execute_input": "2025-04-09T21:01:06.884332Z",
          "iopub.status.busy": "2025-04-09T21:01:06.883827Z",
          "iopub.status.idle": "2025-04-09T21:01:06.909043Z",
          "shell.execute_reply": "2025-04-09T21:01:06.907976Z",
          "shell.execute_reply.started": "2025-04-09T21:01:06.884300Z"
        },
        "id": "ftK22LHzs-EY",
        "trusted": true
      },
      "outputs": [],
      "source": [
        "from torch.utils.data import TensorDataset, DataLoader\n",
        "from torch.utils.data import random_split\n",
        "\n",
        "dataset = TensorDataset(X_tensor, y_tensor)\n",
        "\n",
        "train_size = int(0.999 * len(dataset))\n",
        "val_size = len(dataset) - train_size\n",
        "\n",
        "train_dataset, val_dataset = random_split(dataset, [train_size, val_size])\n",
        "\n",
        "batch_size = 32\n",
        "train_dataloader = DataLoader(train_dataset, batch_size=batch_size, shuffle=True)\n",
        "val_dataloader = DataLoader(val_dataset, batch_size=batch_size, shuffle=False)\n",
        "\n",
        "\n",
        "test_dataset = TensorDataset(X_test_tensor)\n",
        "test_dataloader = DataLoader(test_dataset, batch_size=batch_size, shuffle=False)"
      ]
    },
    {
      "cell_type": "code",
      "execution_count": 29,
      "metadata": {
        "execution": {
          "iopub.execute_input": "2025-04-09T21:01:06.910453Z",
          "iopub.status.busy": "2025-04-09T21:01:06.910091Z",
          "iopub.status.idle": "2025-04-09T21:01:06.917322Z",
          "shell.execute_reply": "2025-04-09T21:01:06.916065Z",
          "shell.execute_reply.started": "2025-04-09T21:01:06.910424Z"
        },
        "id": "ycoLHo5bs-EY",
        "trusted": true
      },
      "outputs": [],
      "source": [
        "from torch import nn\n",
        "\n",
        "class TitanicLinearModel(nn.Module):\n",
        "    def __init__(self, input_size, hidden_layers, hidden_size, output_size):\n",
        "        super().__init__()\n",
        "\n",
        "        layers = [\n",
        "            nn.Linear(in_features=input_size, out_features=hidden_size),\n",
        "            nn.ReLU()\n",
        "        ]\n",
        "\n",
        "        for _ in range(hidden_layers):\n",
        "            layers.append(nn.Linear(in_features=hidden_size, out_features=hidden_size))\n",
        "            layers.append(nn.ReLU())\n",
        "            layers.append(nn.Dropout(p=0.2))\n",
        "\n",
        "        layers.append(nn.Linear(in_features=hidden_size, out_features=output_size))\n",
        "\n",
        "        self.sequential = nn.Sequential(*layers)\n",
        "\n",
        "    def forward(self, x):\n",
        "        return self.sequential(x)"
      ]
    },
    {
      "cell_type": "code",
      "execution_count": 30,
      "metadata": {
        "execution": {
          "iopub.execute_input": "2025-04-09T21:01:06.918770Z",
          "iopub.status.busy": "2025-04-09T21:01:06.918407Z",
          "iopub.status.idle": "2025-04-09T21:01:06.946373Z",
          "shell.execute_reply": "2025-04-09T21:01:06.945189Z",
          "shell.execute_reply.started": "2025-04-09T21:01:06.918719Z"
        },
        "id": "wOXCVqCms-EZ",
        "trusted": true
      },
      "outputs": [],
      "source": [
        "input_size = len(feature_col)\n",
        "hidden_layers = 1\n",
        "hidden_size = 16\n",
        "output_size = 1\n",
        "\n",
        "model = TitanicLinearModel(input_size, hidden_layers, hidden_size, output_size)"
      ]
    },
    {
      "cell_type": "code",
      "execution_count": 31,
      "metadata": {
        "execution": {
          "iopub.execute_input": "2025-04-09T21:01:06.947868Z",
          "iopub.status.busy": "2025-04-09T21:01:06.947423Z",
          "iopub.status.idle": "2025-04-09T21:01:11.954702Z",
          "shell.execute_reply": "2025-04-09T21:01:11.953068Z",
          "shell.execute_reply.started": "2025-04-09T21:01:06.947799Z"
        },
        "id": "ro49lnmZs-EZ",
        "trusted": true
      },
      "outputs": [],
      "source": [
        "import torch\n",
        "\n",
        "loss_fn = torch.nn.BCEWithLogitsLoss()\n",
        "optimizer = torch.optim.Adam(params=model.parameters(), lr=0.001)"
      ]
    },
    {
      "cell_type": "code",
      "execution_count": 32,
      "metadata": {
        "colab": {
          "base_uri": "https://localhost:8080/"
        },
        "execution": {
          "iopub.execute_input": "2025-04-09T21:01:11.956842Z",
          "iopub.status.busy": "2025-04-09T21:01:11.956161Z",
          "iopub.status.idle": "2025-04-09T21:01:11.972317Z",
          "shell.execute_reply": "2025-04-09T21:01:11.971069Z",
          "shell.execute_reply.started": "2025-04-09T21:01:11.956773Z"
        },
        "id": "MdWPieNds-Ea",
        "outputId": "cfb85f86-b133-4bcc-d85c-ea581d20413d",
        "trusted": true
      },
      "outputs": [
        {
          "name": "stdout",
          "output_type": "stream",
          "text": [
            "mps\n"
          ]
        },
        {
          "data": {
            "text/plain": [
              "TitanicLinearModel(\n",
              "  (sequential): Sequential(\n",
              "    (0): Linear(in_features=12, out_features=16, bias=True)\n",
              "    (1): ReLU()\n",
              "    (2): Linear(in_features=16, out_features=16, bias=True)\n",
              "    (3): ReLU()\n",
              "    (4): Dropout(p=0.2, inplace=False)\n",
              "    (5): Linear(in_features=16, out_features=1, bias=True)\n",
              "  )\n",
              ")"
            ]
          },
          "execution_count": 32,
          "metadata": {},
          "output_type": "execute_result"
        }
      ],
      "source": [
        "def get_device():\n",
        "    \"\"\"\n",
        "    Determine the appropriate device for PyTorch operations.\n",
        "\n",
        "    Returns:\n",
        "        torch.device: The best available device ('mps', 'cuda', or 'cpu').\n",
        "    \"\"\"\n",
        "    if torch.backends.mps.is_built() and torch.backends.mps.is_available():\n",
        "        return torch.device(\"mps\")\n",
        "    elif torch.cuda.is_available():\n",
        "        return torch.device(\"cuda\")\n",
        "    else:\n",
        "        return torch.device(\"cpu\")\n",
        "\n",
        "device = get_device()\n",
        "print(device)\n",
        "\n",
        "model.to(device)"
      ]
    },
    {
      "cell_type": "code",
      "execution_count": 33,
      "metadata": {
        "colab": {
          "base_uri": "https://localhost:8080/",
          "height": 151,
          "referenced_widgets": [
            "286b8959e3e0407c8ee72cc64fb50f1f",
            "aa6b085108ef44a4b22f77d80e273b9b",
            "e6b9befdfd9a4d7399bfceaa1d530cef",
            "117b0d8990274d06b72d36349a079fa3",
            "958512fca8294546b0ee4c4bc545361f",
            "696b8cdf83474c0ab51764ff9c5bd09e",
            "d0029bdbf4584cbcb369d0f4d80ce732",
            "ce9919e8d6a144f8921d80908ca31cfd",
            "2b7b69898e2141358e986d9d4788292e",
            "432dfe2555504fd8b3a2a55923b50d52",
            "4c42df4bf72b43ce92ae2ba3828bb2d6"
          ]
        },
        "execution": {
          "iopub.execute_input": "2025-04-09T21:01:11.974008Z",
          "iopub.status.busy": "2025-04-09T21:01:11.973592Z",
          "iopub.status.idle": "2025-04-09T21:01:13.575461Z",
          "shell.execute_reply": "2025-04-09T21:01:13.574104Z",
          "shell.execute_reply.started": "2025-04-09T21:01:11.973968Z"
        },
        "id": "CCSrnTFds-Eb",
        "outputId": "dd876cd5-6d8b-477c-a3c3-9c2ca401acfb",
        "trusted": true
      },
      "outputs": [
        {
          "name": "stderr",
          "output_type": "stream",
          "text": [
            "/Users/veselov/miniforge3/envs/test/lib/python3.10/site-packages/tqdm/auto.py:21: TqdmWarning: IProgress not found. Please update jupyter and ipywidgets. See https://ipywidgets.readthedocs.io/en/stable/user_install.html\n",
            "  from .autonotebook import tqdm as notebook_tqdm\n",
            " 50%|█████     | 3/6 [00:02<00:02,  1.40it/s]"
          ]
        },
        {
          "name": "stdout",
          "output_type": "stream",
          "text": [
            "EPOCH: 0 | train_loss: 0.6556 | train_acc: 0.6210 | val_loss: 0.5226 | val_acc: 1.0000\n",
            "EPOCH: 1 | train_loss: 0.6305 | train_acc: 0.6490 | val_loss: 0.4203 | val_acc: 1.0000\n",
            "EPOCH: 2 | train_loss: 0.5943 | train_acc: 0.6809 | val_loss: 0.3111 | val_acc: 1.0000\n"
          ]
        },
        {
          "name": "stderr",
          "output_type": "stream",
          "text": [
            "100%|██████████| 6/6 [00:02<00:00,  2.05it/s]"
          ]
        },
        {
          "name": "stdout",
          "output_type": "stream",
          "text": [
            "EPOCH: 3 | train_loss: 0.5510 | train_acc: 0.7156 | val_loss: 0.1986 | val_acc: 1.0000\n",
            "EPOCH: 4 | train_loss: 0.5073 | train_acc: 0.7552 | val_loss: 0.1350 | val_acc: 1.0000\n",
            "EPOCH: 5 | train_loss: 0.4915 | train_acc: 0.7728 | val_loss: 0.0945 | val_acc: 1.0000\n"
          ]
        },
        {
          "name": "stderr",
          "output_type": "stream",
          "text": [
            "\n"
          ]
        }
      ],
      "source": [
        "from tqdm.auto import tqdm\n",
        "\n",
        "EPOCHS = 6\n",
        "\n",
        "train_losses = []\n",
        "val_losses = []\n",
        "train_accuracies = []\n",
        "val_accuracies = []\n",
        "\n",
        "for epoch in tqdm(range(EPOCHS)):\n",
        "    train_loss = train_acc = 0\n",
        "\n",
        "    for batch, (X,y) in enumerate(train_dataloader):\n",
        "        X = X.to(device)\n",
        "        y = y.to(device)\n",
        "\n",
        "        model.train()\n",
        "        y_logits = model(X).squeeze(1)\n",
        "\n",
        "        loss = loss_fn(y_logits, y.float())\n",
        "        train_loss += loss.item()\n",
        "\n",
        "        optimizer.zero_grad()\n",
        "\n",
        "        loss.backward()\n",
        "        optimizer.step()\n",
        "\n",
        "        y_probs = torch.sigmoid(y_logits)\n",
        "        y_preds = (y_probs >= 0.5).long()\n",
        "\n",
        "        train_acc += (y == y_preds).sum().item() / len(y)\n",
        "\n",
        "    train_loss = train_loss / len(train_dataloader)\n",
        "    train_acc = train_acc / len(train_dataloader)\n",
        "\n",
        "\n",
        "    val_loss = val_acc = 0\n",
        "    with torch.inference_mode():\n",
        "        for batch, (X,y) in enumerate(val_dataloader):\n",
        "            X = X.to(device)\n",
        "            y = y.to(device)\n",
        "\n",
        "            model.eval()\n",
        "\n",
        "            y_logits = model(X).squeeze(1)\n",
        "            loss = loss_fn(y_logits, y.float())\n",
        "            val_loss += loss.item()\n",
        "\n",
        "            y_probs = torch.sigmoid(y_logits)\n",
        "            y_preds = (y_probs >= 0.5).long()\n",
        "\n",
        "            val_acc += (y == y_preds).sum().item() / len(y)\n",
        "\n",
        "    val_loss = val_loss / len(val_dataloader)\n",
        "    val_acc = val_acc / len(val_dataloader)\n",
        "\n",
        "    train_losses.append(train_loss)\n",
        "    val_losses.append(val_loss)\n",
        "    train_accuracies.append(train_acc)\n",
        "    val_accuracies.append(val_acc)\n",
        "\n",
        "    print(f\"EPOCH: {epoch} | train_loss: {train_loss:.4f} | train_acc: {train_acc:.4f} | val_loss: {val_loss:.4f} | val_acc: {val_acc:.4f}\")"
      ]
    },
    {
      "cell_type": "code",
      "execution_count": 34,
      "metadata": {
        "id": "QP2c-0cZ4ZhO"
      },
      "outputs": [],
      "source": [
        "import pandas as pd\n",
        "\n",
        "df = pd.DataFrame({\n",
        "    \"epoch\": list(range(1, EPOCHS + 1)),\n",
        "    \"train_loss\": train_losses,\n",
        "    \"val_loss\": val_losses,\n",
        "    \"train_acc\": train_accuracies,\n",
        "    \"val_acc\": val_accuracies\n",
        "})"
      ]
    },
    {
      "cell_type": "code",
      "execution_count": 35,
      "metadata": {
        "colab": {
          "base_uri": "https://localhost:8080/",
          "height": 944
        },
        "id": "8Xz8yO8W5h3c",
        "outputId": "cbf22bac-274e-422f-ab53-cfd65f6c0c98"
      },
      "outputs": [
        {
          "data": {
            "text/plain": [
              "<Axes: title={'center': 'Accuracy Over Epochs'}, xlabel='epoch'>"
            ]
          },
          "execution_count": 35,
          "metadata": {},
          "output_type": "execute_result"
        },
        {
          "data": {
            "image/png": "[encoded data removed]",
            "text/plain": [
              "<Figure size 640x480 with 1 Axes>"
            ]
          },
          "metadata": {},
          "output_type": "display_data"
        },
        {
          "data": {
            "image/png": "[encoded data removed]",
            "text/plain": [
              "<Figure size 640x480 with 1 Axes>"
            ]
          },
          "metadata": {},
          "output_type": "display_data"
        }
      ],
      "source": [
        "df.plot(x=\"epoch\", y=[\"train_loss\", \"val_loss\"], title=\"Loss Over Epochs\")\n",
        "df.plot(x=\"epoch\", y=[\"train_acc\", \"val_acc\"], title=\"Accuracy Over Epochs\")"
      ]
    },
    {
      "cell_type": "code",
      "execution_count": 36,
      "metadata": {
        "execution": {
          "iopub.execute_input": "2025-04-09T21:01:13.577570Z",
          "iopub.status.busy": "2025-04-09T21:01:13.577116Z",
          "iopub.status.idle": "2025-04-09T21:01:13.596752Z",
          "shell.execute_reply": "2025-04-09T21:01:13.595697Z",
          "shell.execute_reply.started": "2025-04-09T21:01:13.577525Z"
        },
        "id": "zluoYISDs-Eb",
        "trusted": true
      },
      "outputs": [],
      "source": [
        "model.eval()\n",
        "\n",
        "preds = []\n",
        "\n",
        "with torch.inference_mode():\n",
        "    for batch, X in enumerate(test_dataloader):\n",
        "        X = X[0].to(device)\n",
        "\n",
        "        model.eval()\n",
        "\n",
        "        y_logits = model(X).squeeze(1)\n",
        "\n",
        "        y_probs = torch.sigmoid(y_logits)\n",
        "        y_preds = (y_probs >= 0.5).long()\n",
        "        preds.append(y_preds)\n",
        "\n",
        "preds = torch.cat(preds)"
      ]
    },
    {
      "cell_type": "code",
      "execution_count": 37,
      "metadata": {
        "colab": {
          "base_uri": "https://localhost:8080/"
        },
        "id": "1A4WLgHD08yd",
        "outputId": "15044e60-643e-4891-d675-44b4494703d8"
      },
      "outputs": [
        {
          "name": "stdout",
          "output_type": "stream",
          "text": [
            "Accuracy compared to gender_submission.csv: 0.8254\n"
          ]
        }
      ],
      "source": [
        "preds = preds.cpu().numpy()\n",
        "ans = pd.read_csv(input_dir + \"gender_submission.csv\")\n",
        "ans[\"Survived_pred\"] = preds\n",
        "\n",
        "acc = (ans[\"Survived\"] == ans[\"Survived_pred\"]).mean()\n",
        "print(f\"Accuracy compared to gender_submission.csv: {acc:.4f}\")"
      ]
    },
    {
      "cell_type": "code",
      "execution_count": 38,
      "metadata": {
        "colab": {
          "base_uri": "https://localhost:8080/",
          "height": 34
        },
        "execution": {
          "iopub.execute_input": "2025-04-09T21:01:13.598256Z",
          "iopub.status.busy": "2025-04-09T21:01:13.597905Z",
          "iopub.status.idle": "2025-04-09T21:01:13.632371Z",
          "shell.execute_reply": "2025-04-09T21:01:13.631145Z",
          "shell.execute_reply.started": "2025-04-09T21:01:13.598212Z"
        },
        "id": "wBO3Q4czs-Ec",
        "outputId": "a8952913-dc86-4f32-dc08-2689c6a538f3",
        "trusted": true
      },
      "outputs": [
        {
          "data": {
            "text/html": [
              "<a href='submission.csv' target='_blank'>submission.csv</a><br>"
            ],
            "text/plain": [
              "/Users/veselov/Documents/Python/titanic/submission.csv"
            ]
          },
          "metadata": {},
          "output_type": "display_data"
        }
      ],
      "source": [
        "from IPython.display import FileLink\n",
        "\n",
        "submission = pd.DataFrame({\n",
        "    'PassengerId': test_data['PassengerId'],\n",
        "    'Survived': preds\n",
        "})\n",
        "\n",
        "submission['Survived'] = submission['Survived'].astype(int)\n",
        "\n",
        "submission.to_csv('submission.csv', index=False)\n",
        "display(FileLink('submission.csv'))"
      ]
    }
  ],
  "metadata": {
    "accelerator": "GPU",
    "colab": {
      "gpuType": "T4",
      "provenance": []
    },
    "kaggle": {
      "accelerator": "none",
      "dataSources": [
        {
          "databundleVersionId": 26502,
          "sourceId": 3136,
          "sourceType": "competition"
        }
      ],
      "dockerImageVersionId": 30918,
      "isGpuEnabled": false,
      "isInternetEnabled": false,
      "language": "python",
      "sourceType": "notebook"
    },
    "kernelspec": {
      "display_name": "test",
      "language": "python",
      "name": "python3"
    },
    "language_info": {
      "codemirror_mode": {
        "name": "ipython",
        "version": 3
      },
      "file_extension": ".py",
      "mimetype": "text/x-python",
      "name": "python",
      "nbconvert_exporter": "python",
      "pygments_lexer": "ipython3",
      "version": "3.10.17"
    },
    "widgets": {
      "application/vnd.jupyter.widget-state+json": {
        "117b0d8990274d06b72d36349a079fa3": {
          "model_module": "@jupyter-widgets/controls",
          "model_module_version": "1.5.0",
          "model_name": "HTMLModel",
          "state": {
            "_dom_classes": [],
            "_model_module": "@jupyter-widgets/controls",
            "_model_module_version": "1.5.0",
            "_model_name": "HTMLModel",
            "_view_count": null,
            "_view_module": "@jupyter-widgets/controls",
            "_view_module_version": "1.5.0",
            "_view_name": "HTMLView",
            "description": "",
            "description_tooltip": null,
            "layout": "IPY_MODEL_432dfe2555504fd8b3a2a55923b50d52",
            "placeholder": "​",
            "style": "IPY_MODEL_4c42df4bf72b43ce92ae2ba3828bb2d6",
            "value": " 6/6 [00:00&lt;00:00, 15.02it/s]"
          }
        },
        "286b8959e3e0407c8ee72cc64fb50f1f": {
          "model_module": "@jupyter-widgets/controls",
          "model_module_version": "1.5.0",
          "model_name": "HBoxModel",
          "state": {
            "_dom_classes": [],
            "_model_module": "@jupyter-widgets/controls",
            "_model_module_version": "1.5.0",
            "_model_name": "HBoxModel",
            "_view_count": null,
            "_view_module": "@jupyter-widgets/controls",
            "_view_module_version": "1.5.0",
            "_view_name": "HBoxView",
            "box_style": "",
            "children": [
              "IPY_MODEL_aa6b085108ef44a4b22f77d80e273b9b",
              "IPY_MODEL_e6b9befdfd9a4d7399bfceaa1d530cef",
              "IPY_MODEL_117b0d8990274d06b72d36349a079fa3"
            ],
            "layout": "IPY_MODEL_958512fca8294546b0ee4c4bc545361f"
          }
        },
        "2b7b69898e2141358e986d9d4788292e": {
          "model_module": "@jupyter-widgets/controls",
          "model_module_version": "1.5.0",
          "model_name": "ProgressStyleModel",
          "state": {
            "_model_module": "@jupyter-widgets/controls",
            "_model_module_version": "1.5.0",
            "_model_name": "ProgressStyleModel",
            "_view_count": null,
            "_view_module": "@jupyter-widgets/base",
            "_view_module_version": "1.2.0",
            "_view_name": "StyleView",
            "bar_color": null,
            "description_width": ""
          }
        },
        "432dfe2555504fd8b3a2a55923b50d52": {
          "model_module": "@jupyter-widgets/base",
          "model_module_version": "1.2.0",
          "model_name": "LayoutModel",
          "state": {
            "_model_module": "@jupyter-widgets/base",
            "_model_module_version": "1.2.0",
            "_model_name": "LayoutModel",
            "_view_count": null,
            "_view_module": "@jupyter-widgets/base",
            "_view_module_version": "1.2.0",
            "_view_name": "LayoutView",
            "align_content": null,
            "align_items": null,
            "align_self": null,
            "border": null,
            "bottom": null,
            "display": null,
            "flex": null,
            "flex_flow": null,
            "grid_area": null,
            "grid_auto_columns": null,
            "grid_auto_flow": null,
            "grid_auto_rows": null,
            "grid_column": null,
            "grid_gap": null,
            "grid_row": null,
            "grid_template_areas": null,
            "grid_template_columns": null,
            "grid_template_rows": null,
            "height": null,
            "justify_content": null,
            "justify_items": null,
            "left": null,
            "margin": null,
            "max_height": null,
            "max_width": null,
            "min_height": null,
            "min_width": null,
            "object_fit": null,
            "object_position": null,
            "order": null,
            "overflow": null,
            "overflow_x": null,
            "overflow_y": null,
            "padding": null,
            "right": null,
            "top": null,
            "visibility": null,
            "width": null
          }
        },
        "4c42df4bf72b43ce92ae2ba3828bb2d6": {
          "model_module": "@jupyter-widgets/controls",
          "model_module_version": "1.5.0",
          "model_name": "DescriptionStyleModel",
          "state": {
            "_model_module": "@jupyter-widgets/controls",
            "_model_module_version": "1.5.0",
            "_model_name": "DescriptionStyleModel",
            "_view_count": null,
            "_view_module": "@jupyter-widgets/base",
            "_view_module_version": "1.2.0",
            "_view_name": "StyleView",
            "description_width": ""
          }
        },
        "696b8cdf83474c0ab51764ff9c5bd09e": {
          "model_module": "@jupyter-widgets/base",
          "model_module_version": "1.2.0",
          "model_name": "LayoutModel",
          "state": {
            "_model_module": "@jupyter-widgets/base",
            "_model_module_version": "1.2.0",
            "_model_name": "LayoutModel",
            "_view_count": null,
            "_view_module": "@jupyter-widgets/base",
            "_view_module_version": "1.2.0",
            "_view_name": "LayoutView",
            "align_content": null,
            "align_items": null,
            "align_self": null,
            "border": null,
            "bottom": null,
            "display": null,
            "flex": null,
            "flex_flow": null,
            "grid_area": null,
            "grid_auto_columns": null,
            "grid_auto_flow": null,
            "grid_auto_rows": null,
            "grid_column": null,
            "grid_gap": null,
            "grid_row": null,
            "grid_template_areas": null,
            "grid_template_columns": null,
            "grid_template_rows": null,
            "height": null,
            "justify_content": null,
            "justify_items": null,
            "left": null,
            "margin": null,
            "max_height": null,
            "max_width": null,
            "min_height": null,
            "min_width": null,
            "object_fit": null,
            "object_position": null,
            "order": null,
            "overflow": null,
            "overflow_x": null,
            "overflow_y": null,
            "padding": null,
            "right": null,
            "top": null,
            "visibility": null,
            "width": null
          }
        },
        "958512fca8294546b0ee4c4bc545361f": {
          "model_module": "@jupyter-widgets/base",
          "model_module_version": "1.2.0",
          "model_name": "LayoutModel",
          "state": {
            "_model_module": "@jupyter-widgets/base",
            "_model_module_version": "1.2.0",
            "_model_name": "LayoutModel",
            "_view_count": null,
            "_view_module": "@jupyter-widgets/base",
            "_view_module_version": "1.2.0",
            "_view_name": "LayoutView",
            "align_content": null,
            "align_items": null,
            "align_self": null,
            "border": null,
            "bottom": null,
            "display": null,
            "flex": null,
            "flex_flow": null,
            "grid_area": null,
            "grid_auto_columns": null,
            "grid_auto_flow": null,
            "grid_auto_rows": null,
            "grid_column": null,
            "grid_gap": null,
            "grid_row": null,
            "grid_template_areas": null,
            "grid_template_columns": null,
            "grid_template_rows": null,
            "height": null,
            "justify_content": null,
            "justify_items": null,
            "left": null,
            "margin": null,
            "max_height": null,
            "max_width": null,
            "min_height": null,
            "min_width": null,
            "object_fit": null,
            "object_position": null,
            "order": null,
            "overflow": null,
            "overflow_x": null,
            "overflow_y": null,
            "padding": null,
            "right": null,
            "top": null,
            "visibility": null,
            "width": null
          }
        },
        "aa6b085108ef44a4b22f77d80e273b9b": {
          "model_module": "@jupyter-widgets/controls",
          "model_module_version": "1.5.0",
          "model_name": "HTMLModel",
          "state": {
            "_dom_classes": [],
            "_model_module": "@jupyter-widgets/controls",
            "_model_module_version": "1.5.0",
            "_model_name": "HTMLModel",
            "_view_count": null,
            "_view_module": "@jupyter-widgets/controls",
            "_view_module_version": "1.5.0",
            "_view_name": "HTMLView",
            "description": "",
            "description_tooltip": null,
            "layout": "IPY_MODEL_696b8cdf83474c0ab51764ff9c5bd09e",
            "placeholder": "​",
            "style": "IPY_MODEL_d0029bdbf4584cbcb369d0f4d80ce732",
            "value": "100%"
          }
        },
        "ce9919e8d6a144f8921d80908ca31cfd": {
          "model_module": "@jupyter-widgets/base",
          "model_module_version": "1.2.0",
          "model_name": "LayoutModel",
          "state": {
            "_model_module": "@jupyter-widgets/base",
            "_model_module_version": "1.2.0",
            "_model_name": "LayoutModel",
            "_view_count": null,
            "_view_module": "@jupyter-widgets/base",
            "_view_module_version": "1.2.0",
            "_view_name": "LayoutView",
            "align_content": null,
            "align_items": null,
            "align_self": null,
            "border": null,
            "bottom": null,
            "display": null,
            "flex": null,
            "flex_flow": null,
            "grid_area": null,
            "grid_auto_columns": null,
            "grid_auto_flow": null,
            "grid_auto_rows": null,
            "grid_column": null,
            "grid_gap": null,
            "grid_row": null,
            "grid_template_areas": null,
            "grid_template_columns": null,
            "grid_template_rows": null,
            "height": null,
            "justify_content": null,
            "justify_items": null,
            "left": null,
            "margin": null,
            "max_height": null,
            "max_width": null,
            "min_height": null,
            "min_width": null,
            "object_fit": null,
            "object_position": null,
            "order": null,
            "overflow": null,
            "overflow_x": null,
            "overflow_y": null,
            "padding": null,
            "right": null,
            "top": null,
            "visibility": null,
            "width": null
          }
        },
        "d0029bdbf4584cbcb369d0f4d80ce732": {
          "model_module": "@jupyter-widgets/controls",
          "model_module_version": "1.5.0",
          "model_name": "DescriptionStyleModel",
          "state": {
            "_model_module": "@jupyter-widgets/controls",
            "_model_module_version": "1.5.0",
            "_model_name": "DescriptionStyleModel",
            "_view_count": null,
            "_view_module": "@jupyter-widgets/base",
            "_view_module_version": "1.2.0",
            "_view_name": "StyleView",
            "description_width": ""
          }
        },
        "e6b9befdfd9a4d7399bfceaa1d530cef": {
          "model_module": "@jupyter-widgets/controls",
          "model_module_version": "1.5.0",
          "model_name": "FloatProgressModel",
          "state": {
            "_dom_classes": [],
            "_model_module": "@jupyter-widgets/controls",
            "_model_module_version": "1.5.0",
            "_model_name": "FloatProgressModel",
            "_view_count": null,
            "_view_module": "@jupyter-widgets/controls",
            "_view_module_version": "1.5.0",
            "_view_name": "ProgressView",
            "bar_style": "success",
            "description": "",
            "description_tooltip": null,
            "layout": "IPY_MODEL_ce9919e8d6a144f8921d80908ca31cfd",
            "max": 6,
            "min": 0,
            "orientation": "horizontal",
            "style": "IPY_MODEL_2b7b69898e2141358e986d9d4788292e",
            "value": 6
          }
        }
      }
    }
  },
  "nbformat": 4,
  "nbformat_minor": 0
}
